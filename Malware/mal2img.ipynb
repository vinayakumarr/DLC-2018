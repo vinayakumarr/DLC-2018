{
 "cells": [
  {
   "cell_type": "markdown",
   "metadata": {},
   "source": [
    "# Binary to Image"
   ]
  },
  {
   "cell_type": "code",
   "execution_count": 6,
   "metadata": {},
   "outputs": [],
   "source": [
    "import numpy,scipy, os, array, scipy.misc\n",
    "\n",
    "filename = '/home/lenovo/Pony.exe';\n",
    "f = open(filename,'rb');\n",
    "ln = os.path.getsize(filename); # length of file in bytes\n",
    "width = 256;\n",
    "rem = ln%width; \n",
    "\n",
    "a = array.array(\"B\"); # uint8 array\n",
    "a.fromfile(f,ln-rem);\n",
    "f.close(); \n",
    "\n",
    "g = numpy.reshape(a,(len(a)/width,width));\n",
    "g = numpy.uint8(g);\n",
    "scipy.misc.imsave('Pony.png',g);"
   ]
  },
  {
   "cell_type": "markdown",
   "metadata": {},
   "source": [
    "# gist feature"
   ]
  },
  {
   "cell_type": "code",
   "execution_count": null,
   "metadata": {
    "collapsed": true
   },
   "outputs": [],
   "source": [
    "import Image,leargist\n",
    "im = Image.open('16db6e2a9998430df9017f5cc6dd41f8.png');\n",
    "im1 = im.resize((64,64)); # for faster computation\n",
    "des = leargist.color_gist(im1); # 960 values\n",
    "feature = des[0:320]; # since the image is grayscale, we need only first 320 values\n",
    "\n",
    "\n",
    "\n",
    "#After computing the features for the samples, save them as a numpy array:\n",
    "\n",
    "\n",
    "save('corpus_features.npy',corpus_features); "
   ]
  }
 ],
 "metadata": {
  "kernelspec": {
   "display_name": "Python 2",
   "language": "python",
   "name": "python2"
  },
  "language_info": {
   "codemirror_mode": {
    "name": "ipython",
    "version": 2
   },
   "file_extension": ".py",
   "mimetype": "text/x-python",
   "name": "python",
   "nbconvert_exporter": "python",
   "pygments_lexer": "ipython2",
   "version": "2.7.15"
  }
 },
 "nbformat": 4,
 "nbformat_minor": 2
}
