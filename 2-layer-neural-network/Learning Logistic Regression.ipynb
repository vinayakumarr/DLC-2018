{
 "cells": [
  {
   "cell_type": "code",
   "execution_count": 3,
   "metadata": {},
   "outputs": [],
   "source": [
    "import numpy as np\n",
    "import numpy.matlib\n"
   ]
  },
  {
   "cell_type": "markdown",
   "metadata": {},
   "source": [
    "####  The below code is used to generate the data points."
   ]
  },
  {
   "cell_type": "code",
   "execution_count": 169,
   "metadata": {},
   "outputs": [],
   "source": [
    "# Generating two cluster od data points. The center are c1 and c2 respectively\n",
    "# Class1 => Class1 datapoints\n",
    "# Class2 => Class2 data points\n",
    "#no => no of points in a class\n",
    "c1 = [2,3]\n",
    "c2 = [9,10]\n",
    "no = 10\n",
    "Class1 = np.matlib.repmat(c1, no,1) + np.random.randn(no,len(c1))\n",
    "Class2 = np.matlib.repmat(c2, no,1) + np.random.randn(no,len(c2))\n",
    "Data = np.append(Class1,Class2,axis = 0)\n",
    "Trainlabel  = np.append(np.zeros((no,1)),np.ones((no,1)),axis = 0)"
   ]
  },
  {
   "cell_type": "code",
   "execution_count": 170,
   "metadata": {},
   "outputs": [
    {
     "name": "stdout",
     "output_type": "stream",
     "text": [
      "(20, 2)\n",
      "(20, 1)\n"
     ]
    }
   ],
   "source": [
    "(m,n) = Data.shape\n",
    "print Data.shape\n",
    "print Trainlabel.shape\n",
    "#print Trainlabel"
   ]
  },
  {
   "cell_type": "markdown",
   "metadata": {},
   "source": [
    "#### Ploting the data points"
   ]
  },
  {
   "cell_type": "code",
   "execution_count": 171,
   "metadata": {},
   "outputs": [
    {
     "data": {
      "image/png": "[encoded data removed]",
      "text/plain": [
       "<matplotlib.figure.Figure at 0x7f2f41005850>"
      ]
     },
     "metadata": {},
     "output_type": "display_data"
    }
   ],
   "source": [
    "import matplotlib.pyplot as plt\n",
    "plt.plot(Class1[:,0],Class1[:,1],'ro')\n",
    "plt.plot(Class2[:,0],Class2[:,1],'bo')\n",
    "plt.ylabel('Data')\n",
    "plt.show()"
   ]
  },
  {
   "cell_type": "markdown",
   "metadata": {},
   "source": [
    "#### Defining the sigmoid function"
   ]
  },
  {
   "cell_type": "code",
   "execution_count": 172,
   "metadata": {},
   "outputs": [],
   "source": [
    "def sigmoid(x,play):\n",
    "    z =  1/(1+np.exp(-x))\n",
    "    if (play == \"Forward\"):\n",
    "        return z\n",
    "    elif (play == \"Backward\"):\n",
    "        return z*(1-z)"
   ]
  },
  {
   "cell_type": "markdown",
   "metadata": {},
   "source": [
    "#### Intializing the weights and bias to zeros"
   ]
  },
  {
   "cell_type": "code",
   "execution_count": 193,
   "metadata": {},
   "outputs": [],
   "source": [
    "b = 0\n",
    "w = np.zeros((n,1))\n",
    "w1 = 0\n",
    "w2 = 0\n",
    "learningrate = 0.01\n",
    "numiter = 100"
   ]
  },
  {
   "cell_type": "code",
   "execution_count": 194,
   "metadata": {},
   "outputs": [
    {
     "name": "stdout",
     "output_type": "stream",
     "text": [
      "Loss after  1 iteration => [ 0.69314718]\n",
      "Loss after  2 iteration => [ 0.64162871]\n",
      "Loss after  3 iteration => [ 0.61333781]\n",
      "Loss after  4 iteration => [ 0.59729627]\n",
      "Loss after  5 iteration => [ 0.58785307]\n",
      "Loss after  6 iteration => [ 0.5820966]\n",
      "Loss after  7 iteration => [ 0.57847714]\n",
      "Loss after  8 iteration => [ 0.57613694]\n",
      "Loss after  9 iteration => [ 0.57458344]\n",
      "Loss after  10 iteration => [ 0.57352455]\n",
      "Loss after  11 iteration => [ 0.57278231]\n",
      "Loss after  12 iteration => [ 0.57224579]\n",
      "Loss after  13 iteration => [ 0.57184456]\n",
      "Loss after  14 iteration => [ 0.57153321]\n",
      "Loss after  15 iteration => [ 0.57128205]\n",
      "Loss after  16 iteration => [ 0.5710715]\n",
      "Loss after  17 iteration => [ 0.57088852]\n",
      "Loss after  18 iteration => [ 0.57072437]\n",
      "Loss after  19 iteration => [ 0.57057313]\n",
      "Loss after  20 iteration => [ 0.57043079]\n",
      "Loss after  21 iteration => [ 0.57029465]\n",
      "Loss after  22 iteration => [ 0.57016282]\n",
      "Loss after  23 iteration => [ 0.57003404]\n",
      "Loss after  24 iteration => [ 0.56990741]\n",
      "Loss after  25 iteration => [ 0.56978235]\n",
      "Loss after  26 iteration => [ 0.56965844]\n",
      "Loss after  27 iteration => [ 0.56953538]\n",
      "Loss after  28 iteration => [ 0.56941297]\n",
      "Loss after  29 iteration => [ 0.56929109]\n",
      "Loss after  30 iteration => [ 0.56916962]\n",
      "Loss after  31 iteration => [ 0.56904852]\n",
      "Loss after  32 iteration => [ 0.56892772]\n",
      "Loss after  33 iteration => [ 0.56880721]\n",
      "Loss after  34 iteration => [ 0.56868695]\n",
      "Loss after  35 iteration => [ 0.56856693]\n",
      "Loss after  36 iteration => [ 0.56844714]\n",
      "Loss after  37 iteration => [ 0.56832758]\n",
      "Loss after  38 iteration => [ 0.56820823]\n",
      "Loss after  39 iteration => [ 0.56808909]\n",
      "Loss after  40 iteration => [ 0.56797017]\n",
      "Loss after  41 iteration => [ 0.56785145]\n",
      "Loss after  42 iteration => [ 0.56773293]\n",
      "Loss after  43 iteration => [ 0.56761463]\n",
      "Loss after  44 iteration => [ 0.56749653]\n",
      "Loss after  45 iteration => [ 0.56737863]\n",
      "Loss after  46 iteration => [ 0.56726093]\n",
      "Loss after  47 iteration => [ 0.56714344]\n",
      "Loss after  48 iteration => [ 0.56702615]\n",
      "Loss after  49 iteration => [ 0.56690906]\n",
      "Loss after  50 iteration => [ 0.56679217]\n",
      "Loss after  51 iteration => [ 0.56667548]\n",
      "Loss after  52 iteration => [ 0.566559]\n",
      "Loss after  53 iteration => [ 0.56644271]\n",
      "Loss after  54 iteration => [ 0.56632662]\n",
      "Loss after  55 iteration => [ 0.56621074]\n",
      "Loss after  56 iteration => [ 0.56609505]\n",
      "Loss after  57 iteration => [ 0.56597956]\n",
      "Loss after  58 iteration => [ 0.56586427]\n",
      "Loss after  59 iteration => [ 0.56574918]\n",
      "Loss after  60 iteration => [ 0.56563428]\n",
      "Loss after  61 iteration => [ 0.56551958]\n",
      "Loss after  62 iteration => [ 0.56540508]\n",
      "Loss after  63 iteration => [ 0.56529078]\n",
      "Loss after  64 iteration => [ 0.56517667]\n",
      "Loss after  65 iteration => [ 0.56506276]\n",
      "Loss after  66 iteration => [ 0.56494905]\n",
      "Loss after  67 iteration => [ 0.56483553]\n",
      "Loss after  68 iteration => [ 0.56472221]\n",
      "Loss after  69 iteration => [ 0.56460908]\n",
      "Loss after  70 iteration => [ 0.56449614]\n",
      "Loss after  71 iteration => [ 0.5643834]\n",
      "Loss after  72 iteration => [ 0.56427086]\n",
      "Loss after  73 iteration => [ 0.5641585]\n",
      "Loss after  74 iteration => [ 0.56404634]\n",
      "Loss after  75 iteration => [ 0.56393438]\n",
      "Loss after  76 iteration => [ 0.5638226]\n",
      "Loss after  77 iteration => [ 0.56371102]\n",
      "Loss after  78 iteration => [ 0.56359963]\n",
      "Loss after  79 iteration => [ 0.56348843]\n",
      "Loss after  80 iteration => [ 0.56337743]\n",
      "Loss after  81 iteration => [ 0.56326661]\n",
      "Loss after  82 iteration => [ 0.56315599]\n",
      "Loss after  83 iteration => [ 0.56304555]\n",
      "Loss after  84 iteration => [ 0.56293531]\n",
      "Loss after  85 iteration => [ 0.56282525]\n",
      "Loss after  86 iteration => [ 0.56271539]\n",
      "Loss after  87 iteration => [ 0.56260571]\n",
      "Loss after  88 iteration => [ 0.56249622]\n",
      "Loss after  89 iteration => [ 0.56238693]\n",
      "Loss after  90 iteration => [ 0.56227781]\n",
      "Loss after  91 iteration => [ 0.56216889]\n",
      "Loss after  92 iteration => [ 0.56206016]\n",
      "Loss after  93 iteration => [ 0.56195161]\n",
      "Loss after  94 iteration => [ 0.56184325]\n",
      "Loss after  95 iteration => [ 0.56173507]\n",
      "Loss after  96 iteration => [ 0.56162708]\n",
      "Loss after  97 iteration => [ 0.56151928]\n",
      "Loss after  98 iteration => [ 0.56141166]\n",
      "Loss after  99 iteration => [ 0.56130423]\n"
     ]
    }
   ],
   "source": [
    "\n",
    "for j in range(1,numiter):\n",
    "    dw1 = 0\n",
    "    dw2 = 0\n",
    "    db = 0\n",
    "    J = 0\n",
    "    for i in range(0,m):\n",
    "        \n",
    "        z = w1 * Data[i,0] + w2 * Data[i,1] + b\n",
    "        a = sigmoid(z,play =\"Forward\")\n",
    "        J = J + -(Trainlabel[i,:]*np.log(a)+(1-Trainlabel[i,:])*np.log(1-a))\n",
    "        dw1 = dw1 + (a -Trainlabel[i,:])*Data[i,0]\n",
    "        dw2 = dw2 + (a - Trainlabel[i,:])*Data[i,1]\n",
    "        db = db + (a - Trainlabel[i,:])\n",
    "        \n",
    "    J = J/m\n",
    "    dw1 = dw1/m\n",
    "    dw2 = dw2/m\n",
    "    b= b/m\n",
    "    \n",
    "    w1 = w1 - learningrate * dw1\n",
    "    w2 = w2 - learningrate * dw2\n",
    "    b = b - learningrate * b\n",
    "    print \"Loss after \",j,\"iteration =>\",J\n",
    "    \n"
   ]
  },
  {
   "cell_type": "markdown",
   "metadata": {},
   "source": [
    "#### Prediction for Traindata"
   ]
  },
  {
   "cell_type": "code",
   "execution_count": 190,
   "metadata": {},
   "outputs": [],
   "source": [
    "##Predictions\n",
    "pred = []\n",
    "w = np.array([[w1],[w2]])\n",
    "for i in range(0,m):\n",
    "    a = sigmoid(np.dot(w.T,Data[i,:])+b,play=\"Forward\")\n",
    "    if (a > 0.5):\n",
    "        pred.append(1)\n",
    "    elif (a<=0.5):\n",
    "        pred.append(0)\n",
    "pred = np.array(pred)"
   ]
  },
  {
   "cell_type": "code",
   "execution_count": 191,
   "metadata": {},
   "outputs": [
    {
     "name": "stdout",
     "output_type": "stream",
     "text": [
      "[1 1 1 1 1 1 1 1 1 1 1 1 1 1 1 1 1 1 1 1]\n",
      "[[ 0.  0.  0.  0.  0.  0.  0.  0.  0.  0.  1.  1.  1.  1.  1.  1.  1.  1.\n",
      "   1.  1.]]\n"
     ]
    }
   ],
   "source": [
    "print pred.T\n",
    "print Trainlabel.T"
   ]
  },
  {
   "cell_type": "code",
   "execution_count": 177,
   "metadata": {},
   "outputs": [
    {
     "data": {
      "text/plain": [
       "array([ 0.,  0.,  0.,  0.,  0.,  0.,  0.,  0.,  0.,  0.,  1.,  1.,  1.,\n",
       "        1.,  1.,  1.,  1.,  1.,  1.,  1.])"
      ]
     },
     "execution_count": 177,
     "metadata": {},
     "output_type": "execute_result"
    }
   ],
   "source": [
    "from sklearn.linear_model import LogisticRegression\n",
    "clf = LogisticRegression()\n",
    "clf.fit(Data, Trainlabel)\n",
    "predicted = clf.predict(Data)  \n",
    "predicted"
   ]
  },
  {
   "cell_type": "code",
   "execution_count": 178,
   "metadata": {},
   "outputs": [],
   "source": [
    "x = np.arange(0,max(c2)+2)"
   ]
  },
  {
   "cell_type": "code",
   "execution_count": 179,
   "metadata": {},
   "outputs": [],
   "source": [
    "y = -(w1/w2)*x - (b/w2)                                           \n",
    "\n",
    "Tc1 = [4,3]\n",
    "Tc2 = [9,7]\n",
    "TClass1 = np.matlib.repmat(Tc1, no,1) + np.random.randn(no,len(c1))\n",
    "TClass2 = np.matlib.repmat(Tc2, no,1) + np.random.randn(no,len(c2))\n",
    "TData = np.append(TClass1,TClass2,axis = 0)\n",
    "Testlabel  = np.append(np.zeros((no,1)),np.ones((no,1)),axis = 0)"
   ]
  },
  {
   "cell_type": "code",
   "execution_count": null,
   "metadata": {},
   "outputs": [],
   "source": []
  },
  {
   "cell_type": "markdown",
   "metadata": {},
   "source": [
    "#### Prediction for Testdata"
   ]
  },
  {
   "cell_type": "code",
   "execution_count": 180,
   "metadata": {},
   "outputs": [],
   "source": [
    "##Predictions\n",
    "pred = []\n",
    "w = np.array([[w1],[w2]])\n",
    "for i in range(0,m):\n",
    "    a = sigmoid(np.dot(w.T,TData[i,:])+b,play=\"Forward\")\n",
    "    if (a > 0.5):\n",
    "        pred.append(1)\n",
    "    elif (a<=0.5):\n",
    "        pred.append(0)\n",
    "pred = np.array(pred)"
   ]
  },
  {
   "cell_type": "code",
   "execution_count": 181,
   "metadata": {},
   "outputs": [
    {
     "data": {
      "image/png": "[encoded data removed]",
      "text/plain": [
       "<matplotlib.figure.Figure at 0x7f2f40fd4350>"
      ]
     },
     "metadata": {},
     "output_type": "display_data"
    }
   ],
   "source": [
    "import matplotlib.pyplot as plt\n",
    "plt.plot(TClass1[:,0],TClass1[:,1],'ro')\n",
    "plt.plot(TClass2[:,0],TClass2[:,1],'bo')\n",
    "plt.plot(x,y)\n",
    "plt.ylabel('Data')\n",
    "plt.show()"
   ]
  },
  {
   "cell_type": "code",
   "execution_count": 182,
   "metadata": {},
   "outputs": [
    {
     "data": {
      "text/plain": [
       "array([1, 1, 1, 1, 0, 1, 1, 1, 1, 1, 1, 1, 1, 1, 1, 1, 1, 1, 1, 1])"
      ]
     },
     "execution_count": 182,
     "metadata": {},
     "output_type": "execute_result"
    }
   ],
   "source": [
    "pred"
   ]
  },
  {
   "cell_type": "code",
   "execution_count": null,
   "metadata": {},
   "outputs": [],
   "source": []
  },
  {
   "cell_type": "code",
   "execution_count": 183,
   "metadata": {},
   "outputs": [],
   "source": [
    "from sklearn.linear_model import LogisticRegression\n",
    "clf = LogisticRegression()\n",
    "clf.fit(Data, Trainlabel)\n",
    "\n",
    "predicted = clf.predict(TData)   \n"
   ]
  },
  {
   "cell_type": "code",
   "execution_count": 184,
   "metadata": {},
   "outputs": [
    {
     "data": {
      "text/plain": [
       "array([ 0.,  1.,  1.,  1.,  0.,  0.,  1.,  0.,  1.,  1.,  1.,  1.,  1.,\n",
       "        1.,  1.,  1.,  1.,  1.,  1.,  1.])"
      ]
     },
     "execution_count": 184,
     "metadata": {},
     "output_type": "execute_result"
    }
   ],
   "source": [
    "predicted"
   ]
  },
  {
   "cell_type": "code",
   "execution_count": null,
   "metadata": {},
   "outputs": [],
   "source": []
  },
  {
   "cell_type": "code",
   "execution_count": null,
   "metadata": {},
   "outputs": [],
   "source": []
  }
 ],
 "metadata": {
  "kernelspec": {
   "display_name": "Python 2",
   "language": "python",
   "name": "python2"
  },
  "language_info": {
   "codemirror_mode": {
    "name": "ipython",
    "version": 2
   },
   "file_extension": ".py",
   "mimetype": "text/x-python",
   "name": "python",
   "nbconvert_exporter": "python",
   "pygments_lexer": "ipython2",
   "version": "2.7.12"
  }
 },
 "nbformat": 4,
 "nbformat_minor": 2
}
