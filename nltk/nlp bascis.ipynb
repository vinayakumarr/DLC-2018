{
 "cells": [
  {
   "cell_type": "code",
   "execution_count": 2,
   "metadata": {},
   "outputs": [
    {
     "name": "stdout",
     "output_type": "stream",
     "text": [
      "[nltk_data] Downloading package punkt to /home/akarsh/nltk_data...\n",
      "[nltk_data]   Package punkt is already up-to-date!\n",
      "[nltk_data] Downloading package gutenberg to /home/akarsh/nltk_data...\n",
      "[nltk_data]   Package gutenberg is already up-to-date!\n"
     ]
    },
    {
     "data": {
      "text/plain": [
       "True"
      ]
     },
     "execution_count": 2,
     "metadata": {},
     "output_type": "execute_result"
    }
   ],
   "source": [
    "import nltk\n",
    "nltk.download(\"punkt\")\n",
    "nltk.download(\"gutenberg\")"
   ]
  },
  {
   "cell_type": "code",
   "execution_count": 3,
   "metadata": {},
   "outputs": [
    {
     "data": {
      "text/plain": [
       "['austen-emma.txt',\n",
       " 'austen-persuasion.txt',\n",
       " 'austen-sense.txt',\n",
       " 'bible-kjv.txt',\n",
       " 'blake-poems.txt',\n",
       " 'bryant-stories.txt',\n",
       " 'burgess-busterbrown.txt',\n",
       " 'carroll-alice.txt',\n",
       " 'chesterton-ball.txt',\n",
       " 'chesterton-brown.txt',\n",
       " 'chesterton-thursday.txt',\n",
       " 'edgeworth-parents.txt',\n",
       " 'melville-moby_dick.txt',\n",
       " 'milton-paradise.txt',\n",
       " 'shakespeare-caesar.txt',\n",
       " 'shakespeare-hamlet.txt',\n",
       " 'shakespeare-macbeth.txt',\n",
       " 'whitman-leaves.txt']"
      ]
     },
     "execution_count": 3,
     "metadata": {},
     "output_type": "execute_result"
    }
   ],
   "source": [
    "nltk.corpus.gutenberg.fileids()"
   ]
  },
  {
   "cell_type": "code",
   "execution_count": 4,
   "metadata": {},
   "outputs": [],
   "source": [
    "emma=nltk.corpus.gutenberg.raw(\"austen-emma.txt\")"
   ]
  },
  {
   "cell_type": "code",
   "execution_count": 5,
   "metadata": {},
   "outputs": [
    {
     "name": "stdout",
     "output_type": "stream",
     "text": [
      "[Emma by Jane Austen 1816]\n",
      "\n",
      "VOLUME I\n",
      "\n",
      "CHAPTER I\n",
      "\n",
      "\n",
      "Emma Woodhouse, handsome, clever, and rich, with a comfortable home\n",
      "and happy disposition, seemed to unite some of the best blessings\n",
      "of existence; an\n"
     ]
    }
   ],
   "source": [
    "print(emma[:200])"
   ]
  },
  {
   "cell_type": "code",
   "execution_count": 7,
   "metadata": {},
   "outputs": [],
   "source": [
    "with open ('sample.txt','r') as f:\n",
    "    sample_text = f.read()"
   ]
  },
  {
   "cell_type": "code",
   "execution_count": 8,
   "metadata": {},
   "outputs": [],
   "source": [
    "sample_text=sample_text.lower()"
   ]
  },
  {
   "cell_type": "markdown",
   "metadata": {},
   "source": [
    "# Tokenize"
   ]
  },
  {
   "cell_type": "code",
   "execution_count": 9,
   "metadata": {},
   "outputs": [],
   "source": [
    "tokens=nltk.word_tokenize(sample_text)"
   ]
  },
  {
   "cell_type": "code",
   "execution_count": 10,
   "metadata": {},
   "outputs": [
    {
     "name": "stdout",
     "output_type": "stream",
     "text": [
      "['the', 'answer', 'to', 'the', 'question', 'of', 'the', 'universe', '’', 's', 'expansion', 'rate', 'is', 'something', 'called', 'the', 'hubble', 'constant', ',', 'named', 'after', 'the', 'astronomer', 'edwin', 'hubble', 'who', 'discovered', 'in', 'the', '1920s', 'that', 'the', 'universe', 'is', 'expanding', '.', 'galaxies', 'recede', 'from', 'us', 'at', 'speeds', 'proportional', 'to', 'their', 'distances', ',', 'going', 'faster', 'the', 'farther', 'away', 'they', 'are', '.', 'the', 'hubble', 'constant', 'codifies', 'this', 'relationship', 'between', 'cosmic', 'distances', 'and', 'velocities', '.', 'but', 'in', 'doing', 'so', 'it', 'reveals', 'much', 'more', ',', 'making', 'it', 'of', 'interest', 'not', 'only', 'to', 'astronomers', 'but', 'also', 'to', 'cosmologists', 'and', 'physicists', '.', 'because', 'the', 'constant', 'represents', 'the', 'expansion', 'rate', 'at', 'any', 'particular', 'moment', 'in', 'the', 'universe', '’', 's', 'long', 'history', ',', 'measuring', 'its', 'value', 'over', 'time', 'provides', 'an', 'expansive', 'view', 'of', 'how', 'the', 'universe', 'evolves', 'over', 'the', 'eons', ',', 'giving', 'researchers', 'crucial', 'clues', 'to', 'our', 'cosmic', 'origins', 'and', 'future', '.', 'somehow', 'beckoned', 'by', 'the', 'void', ',', 'billions', 'of', 'outward-rushing', 'galaxies', 'also', 'feel', 'the', 'collective', 'gravitational', 'pull', 'of', 'everything', 'in', 'the', 'rearview', 'mirror', 'trying', 'to', 'tug', 'them', 'back', '.', 'the', 'hubble', 'constant', 'reflects', 'the', 'sum', 'total', 'of', 'all', 'the', 'stuff', 'in', 'the', 'universe', 'and', 'the', 'forces', 'acting', 'on', 'it—weighing', 'in', 'on', 'whether', 'gravity', 'or', 'the', 'void', 'will', 'ultimately', 'win', 'this', 'intergalactic', 'tug-of-war', '.', 'the', 'universe', '’', 's', 'contents', 'could', 'eventually', 'reverse', 'the', 'expansion—a', 'scenario', 'called', 'the', '“', 'big', 'crunch', ',', '”', 'in', 'which', 'gravity', 'pulls', 'everything', 'back', 'into', 'an', 'infinitely', 'hot', 'and', 'dense', 'point', 'like', 'the', 'one', 'that', 'birthed', 'the', 'big', 'bang', '.', 'or', 'the', 'universe', 'might', 'steadily', 'expand', 'indefinitely', ',', 'growing', 'ever', 'colder', 'and', 'listless', 'in', 'a', '“', 'big', 'chill', '”', 'that', 'offers', 'endless', 'space', 'and', 'time—but', 'ultimately', 'very', 'little', 'to', 'do', '.', 'or', 'just', 'maybe', 'the', 'cosmic', 'expansion', 'will', 'dramatically', 'speed', 'up', ',', 'becoming', 'so', 'unruly', 'that', 'it', 'bucks', 'all', 'its', 'riders', '.', 'such', 'an', 'accelerating', 'universe', 'could', 'sunder', 'galaxies', ',', 'then', 'stars', ',', 'then', 'planets', ',', 'atoms', 'and', 'subatomic', 'particles', 'until', 'even', 'the', 'fabric', 'of', 'reality', 'itself', 'splits', 'at', 'its', 'seams', 'in', 'a', '“', 'big', 'rip', '”', 'that', 'leaves', 'practically', 'nothing', 'behind', '.', 'will', 'the', 'universe', 'end', 'in', 'fire', ',', 'ice', 'or', 'emptiness', '?', 'the', 'hubble', 'constant', 'knows—but', 'until', 'the', 'tension', 'is', 'resolved', ',', 'the', 'answer', 'is', 'unclear', '.']\n"
     ]
    }
   ],
   "source": [
    "print(tokens)"
   ]
  },
  {
   "cell_type": "markdown",
   "metadata": {},
   "source": [
    "##  remove punctuation"
   ]
  },
  {
   "cell_type": "code",
   "execution_count": 11,
   "metadata": {},
   "outputs": [],
   "source": [
    "from nltk.tokenize import RegexpTokenizer\n",
    "tokenizer= RegexpTokenizer(r'\\w+')\n",
    "tokens=tokenizer.tokenize(sample_text)"
   ]
  },
  {
   "cell_type": "code",
   "execution_count": 12,
   "metadata": {},
   "outputs": [
    {
     "name": "stdout",
     "output_type": "stream",
     "text": [
      "['the', 'answer', 'to', 'the', 'question', 'of', 'the', 'universe', 's', 'expansion', 'rate', 'is', 'something', 'called', 'the', 'hubble', 'constant', 'named', 'after', 'the', 'astronomer', 'edwin', 'hubble', 'who', 'discovered', 'in', 'the', '1920s', 'that', 'the', 'universe', 'is', 'expanding', 'galaxies', 'recede', 'from', 'us', 'at', 'speeds', 'proportional', 'to', 'their', 'distances', 'going', 'faster', 'the', 'farther', 'away', 'they', 'are', 'the', 'hubble', 'constant', 'codifies', 'this', 'relationship', 'between', 'cosmic', 'distances', 'and', 'velocities', 'but', 'in', 'doing', 'so', 'it', 'reveals', 'much', 'more', 'making', 'it', 'of', 'interest', 'not', 'only', 'to', 'astronomers', 'but', 'also', 'to', 'cosmologists', 'and', 'physicists', 'because', 'the', 'constant', 'represents', 'the', 'expansion', 'rate', 'at', 'any', 'particular', 'moment', 'in', 'the', 'universe', 's', 'long', 'history', 'measuring', 'its', 'value', 'over', 'time', 'provides', 'an', 'expansive', 'view', 'of', 'how', 'the', 'universe', 'evolves', 'over', 'the', 'eons', 'giving', 'researchers', 'crucial', 'clues', 'to', 'our', 'cosmic', 'origins', 'and', 'future', 'somehow', 'beckoned', 'by', 'the', 'void', 'billions', 'of', 'outward', 'rushing', 'galaxies', 'also', 'feel', 'the', 'collective', 'gravitational', 'pull', 'of', 'everything', 'in', 'the', 'rearview', 'mirror', 'trying', 'to', 'tug', 'them', 'back', 'the', 'hubble', 'constant', 'reflects', 'the', 'sum', 'total', 'of', 'all', 'the', 'stuff', 'in', 'the', 'universe', 'and', 'the', 'forces', 'acting', 'on', 'it', 'weighing', 'in', 'on', 'whether', 'gravity', 'or', 'the', 'void', 'will', 'ultimately', 'win', 'this', 'intergalactic', 'tug', 'of', 'war', 'the', 'universe', 's', 'contents', 'could', 'eventually', 'reverse', 'the', 'expansion', 'a', 'scenario', 'called', 'the', 'big', 'crunch', 'in', 'which', 'gravity', 'pulls', 'everything', 'back', 'into', 'an', 'infinitely', 'hot', 'and', 'dense', 'point', 'like', 'the', 'one', 'that', 'birthed', 'the', 'big', 'bang', 'or', 'the', 'universe', 'might', 'steadily', 'expand', 'indefinitely', 'growing', 'ever', 'colder', 'and', 'listless', 'in', 'a', 'big', 'chill', 'that', 'offers', 'endless', 'space', 'and', 'time', 'but', 'ultimately', 'very', 'little', 'to', 'do', 'or', 'just', 'maybe', 'the', 'cosmic', 'expansion', 'will', 'dramatically', 'speed', 'up', 'becoming', 'so', 'unruly', 'that', 'it', 'bucks', 'all', 'its', 'riders', 'such', 'an', 'accelerating', 'universe', 'could', 'sunder', 'galaxies', 'then', 'stars', 'then', 'planets', 'atoms', 'and', 'subatomic', 'particles', 'until', 'even', 'the', 'fabric', 'of', 'reality', 'itself', 'splits', 'at', 'its', 'seams', 'in', 'a', 'big', 'rip', 'that', 'leaves', 'practically', 'nothing', 'behind', 'will', 'the', 'universe', 'end', 'in', 'fire', 'ice', 'or', 'emptiness', 'the', 'hubble', 'constant', 'knows', 'but', 'until', 'the', 'tension', 'is', 'resolved', 'the', 'answer', 'is', 'unclear']\n"
     ]
    }
   ],
   "source": [
    "print(tokens)"
   ]
  },
  {
   "cell_type": "markdown",
   "metadata": {},
   "source": [
    "# # See the frequecny "
   ]
  },
  {
   "cell_type": "code",
   "execution_count": 13,
   "metadata": {},
   "outputs": [
    {
     "data": {
      "image/png": "[encoded data removed]",
      "text/plain": [
       "<Figure size 432x288 with 1 Axes>"
      ]
     },
     "metadata": {},
     "output_type": "display_data"
    }
   ],
   "source": [
    "token_freq= nltk.FreqDist(tokens)\n",
    "%matplotlib inline\n",
    "token_freq.plot(20,cumulative=False)"
   ]
  },
  {
   "cell_type": "markdown",
   "metadata": {},
   "source": [
    "# Stop Words"
   ]
  },
  {
   "cell_type": "code",
   "execution_count": 14,
   "metadata": {},
   "outputs": [
    {
     "name": "stdout",
     "output_type": "stream",
     "text": [
      "[nltk_data] Downloading package stopwords to /home/akarsh/nltk_data...\n",
      "[nltk_data]   Package stopwords is already up-to-date!\n"
     ]
    },
    {
     "data": {
      "text/plain": [
       "True"
      ]
     },
     "execution_count": 14,
     "metadata": {},
     "output_type": "execute_result"
    }
   ],
   "source": [
    "from nltk.corpus import stopwords\n",
    "nltk.download('stopwords')"
   ]
  },
  {
   "cell_type": "code",
   "execution_count": 15,
   "metadata": {},
   "outputs": [
    {
     "name": "stdout",
     "output_type": "stream",
     "text": [
      "{'don', \"mustn't\", 'no', 'what', 'where', \"should've\", 'above', 'aren', 'didn', 'and', 'in', \"doesn't\", 'doing', 'himself', 'hadn', 'are', 'then', 'her', 'by', 'so', 'hasn', 'your', 'most', 'd', 'couldn', 'wasn', 'yourself', 'other', 'such', 'ma', 'before', 'any', 'as', 'it', 'shan', 'mustn', 'be', \"don't\", 'which', \"mightn't\", \"wasn't\", 'them', 'too', 'not', 'itself', 'had', 'should', 'hers', 'weren', 'own', 'but', 'll', 'themselves', 'now', 'between', 'being', \"it's\", 'does', 'am', 'under', \"hadn't\", 'some', 'ours', \"needn't\", 'has', 'through', 'after', 'yours', 'they', 'do', 'haven', 'won', 'him', 'below', \"won't\", 'she', 'mightn', 'out', 'only', 'o', 'we', 't', 'will', \"she's\", 'having', 'at', 'me', 'ourselves', 'off', 'he', 'here', \"you're\", 'you', 'our', 'those', 'with', 'down', 'once', 'his', 'been', \"hasn't\", 'its', 'were', \"you'll\", 'y', 'because', 'myself', 'into', 'or', 'during', 'herself', 'why', \"you'd\", 'nor', 've', \"isn't\", 'this', 'wouldn', 'yourselves', 'from', 'a', 's', 'is', 'until', 'when', 'doesn', 'few', 'how', \"weren't\", 'while', 'can', \"you've\", 'there', 'than', 'shouldn', 'further', \"couldn't\", \"shan't\", 'each', 'did', 'about', \"that'll\", 'needn', 'just', 'against', 'if', \"wouldn't\", 'both', 'isn', 'on', 'all', 'same', 'the', 'have', 'my', 'very', 'to', 'theirs', 'an', 'more', 'was', \"shouldn't\", 'that', 'for', 'these', 'ain', 'up', 'over', \"didn't\", 'i', \"haven't\", \"aren't\", 're', 'who', 'of', 'again', 'whom', 'm', 'their'}\n"
     ]
    }
   ],
   "source": [
    "stop=set(stopwords.words('english'))\n",
    "print(stop)"
   ]
  },
  {
   "cell_type": "markdown",
   "metadata": {},
   "source": [
    "## Removing Stop Words"
   ]
  },
  {
   "cell_type": "code",
   "execution_count": 16,
   "metadata": {},
   "outputs": [
    {
     "name": "stdout",
     "output_type": "stream",
     "text": [
      "['answer', 'question', 'universe', 'expansion', 'rate', 'something', 'called', 'hubble', 'constant', 'named', 'astronomer', 'edwin', 'hubble', 'discovered', '1920s', 'universe', 'expanding', 'galaxies', 'recede', 'us', 'speeds', 'proportional', 'distances', 'going', 'faster', 'farther', 'away', 'hubble', 'constant', 'codifies', 'relationship', 'cosmic', 'distances', 'velocities', 'reveals', 'much', 'making', 'interest', 'astronomers', 'also', 'cosmologists', 'physicists', 'constant', 'represents', 'expansion', 'rate', 'particular', 'moment', 'universe', 'long', 'history', 'measuring', 'value', 'time', 'provides', 'expansive', 'view', 'universe', 'evolves', 'eons', 'giving', 'researchers', 'crucial', 'clues', 'cosmic', 'origins', 'future', 'somehow', 'beckoned', 'void', 'billions', 'outward', 'rushing', 'galaxies', 'also', 'feel', 'collective', 'gravitational', 'pull', 'everything', 'rearview', 'mirror', 'trying', 'tug', 'back', 'hubble', 'constant', 'reflects', 'sum', 'total', 'stuff', 'universe', 'forces', 'acting', 'weighing', 'whether', 'gravity', 'void', 'ultimately', 'win', 'intergalactic', 'tug', 'war', 'universe', 'contents', 'could', 'eventually', 'reverse', 'expansion', 'scenario', 'called', 'big', 'crunch', 'gravity', 'pulls', 'everything', 'back', 'infinitely', 'hot', 'dense', 'point', 'like', 'one', 'birthed', 'big', 'bang', 'universe', 'might', 'steadily', 'expand', 'indefinitely', 'growing', 'ever', 'colder', 'listless', 'big', 'chill', 'offers', 'endless', 'space', 'time', 'ultimately', 'little', 'maybe', 'cosmic', 'expansion', 'dramatically', 'speed', 'becoming', 'unruly', 'bucks', 'riders', 'accelerating', 'universe', 'could', 'sunder', 'galaxies', 'stars', 'planets', 'atoms', 'subatomic', 'particles', 'even', 'fabric', 'reality', 'splits', 'seams', 'big', 'rip', 'leaves', 'practically', 'nothing', 'behind', 'universe', 'end', 'fire', 'ice', 'emptiness', 'hubble', 'constant', 'knows', 'tension', 'resolved', 'answer', 'unclear']\n"
     ]
    }
   ],
   "source": [
    "def fil_word(words):\n",
    "    filter_word=[]\n",
    "    for word in words:\n",
    "        if word not in stop:\n",
    "            filter_word.append(word)\n",
    "    return filter_word\n",
    "print(fil_word(tokens))"
   ]
  },
  {
   "cell_type": "code",
   "execution_count": 17,
   "metadata": {},
   "outputs": [
    {
     "data": {
      "image/png": "[encoded data removed]",
      "text/plain": [
       "<Figure size 432x288 with 1 Axes>"
      ]
     },
     "metadata": {},
     "output_type": "display_data"
    }
   ],
   "source": [
    "# plot the frequency \n",
    "%matplotlib inline\n",
    "token_freq= nltk.FreqDist(fil_word(tokens))\n",
    "token_freq.plot(20,cumulative=False)"
   ]
  },
  {
   "cell_type": "markdown",
   "metadata": {},
   "source": [
    "# Stemming and Lemmatization "
   ]
  },
  {
   "cell_type": "code",
   "execution_count": 18,
   "metadata": {},
   "outputs": [],
   "source": [
    "from nltk.stem import PorterStemmer\n",
    "from nltk.stem import LancasterStemmer\n",
    "from nltk.stem import SnowballStemmer"
   ]
  },
  {
   "cell_type": "code",
   "execution_count": 19,
   "metadata": {},
   "outputs": [],
   "source": [
    "Stemmer= PorterStemmer()\n",
    "Stemmer1=LancasterStemmer()\n",
    "Stemmer2=SnowballStemmer('english')"
   ]
  },
  {
   "cell_type": "code",
   "execution_count": 20,
   "metadata": {},
   "outputs": [
    {
     "name": "stdout",
     "output_type": "stream",
     "text": [
      "multipli\n",
      "multiply\n",
      "multipli\n"
     ]
    }
   ],
   "source": [
    "print(Stemmer.stem('multiplying'))\n",
    "print(Stemmer1.stem('multiplying'))\n",
    "print(Stemmer2.stem('multiplying'))"
   ]
  },
  {
   "cell_type": "code",
   "execution_count": 21,
   "metadata": {},
   "outputs": [
    {
     "name": "stdout",
     "output_type": "stream",
     "text": [
      "[nltk_data] Downloading package wordnet to /home/akarsh/nltk_data...\n",
      "[nltk_data]   Unzipping corpora/wordnet.zip.\n",
      "[nltk_data] Downloading package averaged_perceptron_tagger to\n",
      "[nltk_data]     /home/akarsh/nltk_data...\n",
      "[nltk_data]   Unzipping taggers/averaged_perceptron_tagger.zip.\n"
     ]
    },
    {
     "data": {
      "text/plain": [
       "True"
      ]
     },
     "execution_count": 21,
     "metadata": {},
     "output_type": "execute_result"
    }
   ],
   "source": [
    "from nltk.stem import WordNetLemmatizer\n",
    "nltk.download('wordnet')\n",
    "nltk.download('averaged_perceptron_tagger')"
   ]
  },
  {
   "cell_type": "code",
   "execution_count": 26,
   "metadata": {},
   "outputs": [
    {
     "name": "stdout",
     "output_type": "stream",
     "text": [
      "running\n"
     ]
    }
   ],
   "source": [
    "lemma=WordNetLemmatizer()\n",
    "print(lemma.lemmatize(\"running\"))"
   ]
  },
  {
   "cell_type": "markdown",
   "metadata": {},
   "source": [
    "# POS Tagging"
   ]
  },
  {
   "cell_type": "code",
   "execution_count": 27,
   "metadata": {},
   "outputs": [],
   "source": [
    "from nltk import sent_tokenize , word_tokenize, pos_tag"
   ]
  },
  {
   "cell_type": "code",
   "execution_count": 28,
   "metadata": {},
   "outputs": [
    {
     "name": "stdout",
     "output_type": "stream",
     "text": [
      "galaxies recede from us at speeds proportional to their distances, going faster the farther away they are.\n"
     ]
    },
    {
     "data": {
      "text/plain": [
       "[('galaxies', 'NNS'),\n",
       " ('recede', 'VBP'),\n",
       " ('from', 'IN'),\n",
       " ('us', 'PRP'),\n",
       " ('at', 'IN'),\n",
       " ('speeds', 'NNS'),\n",
       " ('proportional', 'JJ'),\n",
       " ('to', 'TO'),\n",
       " ('their', 'PRP$'),\n",
       " ('distances', 'NNS'),\n",
       " (',', ','),\n",
       " ('going', 'VBG'),\n",
       " ('faster', 'RBR'),\n",
       " ('the', 'DT'),\n",
       " ('farther', 'JJR'),\n",
       " ('away', 'RB'),\n",
       " ('they', 'PRP'),\n",
       " ('are', 'VBP'),\n",
       " ('.', '.')]"
      ]
     },
     "execution_count": 28,
     "metadata": {},
     "output_type": "execute_result"
    }
   ],
   "source": [
    "sents=nltk.sent_tokenize(sample_text)\n",
    "print(sents[1])\n",
    "tokens=word_tokenize(sents[1])\n",
    "pos_tag(tokens)"
   ]
  },
  {
   "cell_type": "markdown",
   "metadata": {},
   "source": [
    "# NER (Named Entity Recognition)"
   ]
  },
  {
   "cell_type": "code",
   "execution_count": 29,
   "metadata": {},
   "outputs": [
    {
     "name": "stdout",
     "output_type": "stream",
     "text": [
      "[nltk_data] Downloading package maxent_ne_chunker to\n",
      "[nltk_data]     /home/akarsh/nltk_data...\n",
      "[nltk_data]   Unzipping chunkers/maxent_ne_chunker.zip.\n",
      "[nltk_data] Downloading package words to /home/akarsh/nltk_data...\n",
      "[nltk_data]   Unzipping corpora/words.zip.\n"
     ]
    },
    {
     "data": {
      "text/plain": [
       "True"
      ]
     },
     "execution_count": 29,
     "metadata": {},
     "output_type": "execute_result"
    }
   ],
   "source": [
    "nltk.download(\"maxent_ne_chunker\")\n",
    "nltk.download('words')"
   ]
  },
  {
   "cell_type": "code",
   "execution_count": 31,
   "metadata": {},
   "outputs": [],
   "source": [
    "sentence=\"Steve Jobs, the CEO of Apple Inc. is living in San Francisco\""
   ]
  },
  {
   "cell_type": "code",
   "execution_count": 32,
   "metadata": {},
   "outputs": [],
   "source": [
    "tokens=nltk.word_tokenize(sentence)"
   ]
  },
  {
   "cell_type": "code",
   "execution_count": 33,
   "metadata": {},
   "outputs": [],
   "source": [
    "chunks=nltk.ne_chunk(nltk.pos_tag(tokens))"
   ]
  },
  {
   "cell_type": "code",
   "execution_count": 34,
   "metadata": {},
   "outputs": [
    {
     "name": "stderr",
     "output_type": "stream",
     "text": [
      "/usr/local/lib/python3.5/dist-packages/nltk/draw/__init__.py:14: UserWarning: nltk.draw package not loaded (please install Tkinter library).\n",
      "  warnings.warn(\"nltk.draw package not loaded \"\n"
     ]
    },
    {
     "ename": "ImportError",
     "evalue": "No module named '_tkinter', please install the python3-tk package",
     "output_type": "error",
     "traceback": [
      "\u001b[0;31m---------------------------------------------------------------------------\u001b[0m",
      "\u001b[0;31mImportError\u001b[0m                               Traceback (most recent call last)",
      "\u001b[0;32m/usr/lib/python3.5/tkinter/__init__.py\u001b[0m in \u001b[0;36m<module>\u001b[0;34m()\u001b[0m\n\u001b[1;32m     35\u001b[0m \u001b[0;32mtry\u001b[0m\u001b[0;34m:\u001b[0m\u001b[0;34m\u001b[0m\u001b[0m\n\u001b[0;32m---> 36\u001b[0;31m     \u001b[0;32mimport\u001b[0m \u001b[0m_tkinter\u001b[0m\u001b[0;34m\u001b[0m\u001b[0m\n\u001b[0m\u001b[1;32m     37\u001b[0m \u001b[0;32mexcept\u001b[0m \u001b[0mImportError\u001b[0m \u001b[0;32mas\u001b[0m \u001b[0mmsg\u001b[0m\u001b[0;34m:\u001b[0m\u001b[0;34m\u001b[0m\u001b[0m\n",
      "\u001b[0;31mImportError\u001b[0m: No module named '_tkinter'",
      "\nDuring handling of the above exception, another exception occurred:\n",
      "\u001b[0;31mImportError\u001b[0m                               Traceback (most recent call last)",
      "\u001b[0;32m~/.local/lib/python3.5/site-packages/IPython/core/formatters.py\u001b[0m in \u001b[0;36m__call__\u001b[0;34m(self, obj)\u001b[0m\n\u001b[1;32m    343\u001b[0m             \u001b[0mmethod\u001b[0m \u001b[0;34m=\u001b[0m \u001b[0mget_real_method\u001b[0m\u001b[0;34m(\u001b[0m\u001b[0mobj\u001b[0m\u001b[0;34m,\u001b[0m \u001b[0mself\u001b[0m\u001b[0;34m.\u001b[0m\u001b[0mprint_method\u001b[0m\u001b[0;34m)\u001b[0m\u001b[0;34m\u001b[0m\u001b[0m\n\u001b[1;32m    344\u001b[0m             \u001b[0;32mif\u001b[0m \u001b[0mmethod\u001b[0m \u001b[0;32mis\u001b[0m \u001b[0;32mnot\u001b[0m \u001b[0;32mNone\u001b[0m\u001b[0;34m:\u001b[0m\u001b[0;34m\u001b[0m\u001b[0m\n\u001b[0;32m--> 345\u001b[0;31m                 \u001b[0;32mreturn\u001b[0m \u001b[0mmethod\u001b[0m\u001b[0;34m(\u001b[0m\u001b[0;34m)\u001b[0m\u001b[0;34m\u001b[0m\u001b[0m\n\u001b[0m\u001b[1;32m    346\u001b[0m             \u001b[0;32mreturn\u001b[0m \u001b[0;32mNone\u001b[0m\u001b[0;34m\u001b[0m\u001b[0m\n\u001b[1;32m    347\u001b[0m         \u001b[0;32melse\u001b[0m\u001b[0;34m:\u001b[0m\u001b[0;34m\u001b[0m\u001b[0m\n",
      "\u001b[0;32m/usr/local/lib/python3.5/dist-packages/nltk/tree.py\u001b[0m in \u001b[0;36m_repr_png_\u001b[0;34m(self)\u001b[0m\n\u001b[1;32m    714\u001b[0m         \u001b[0;32mimport\u001b[0m \u001b[0msubprocess\u001b[0m\u001b[0;34m\u001b[0m\u001b[0m\n\u001b[1;32m    715\u001b[0m         \u001b[0;32mimport\u001b[0m \u001b[0mtempfile\u001b[0m\u001b[0;34m\u001b[0m\u001b[0m\n\u001b[0;32m--> 716\u001b[0;31m         \u001b[0;32mfrom\u001b[0m \u001b[0mnltk\u001b[0m\u001b[0;34m.\u001b[0m\u001b[0mdraw\u001b[0m\u001b[0;34m.\u001b[0m\u001b[0mtree\u001b[0m \u001b[0;32mimport\u001b[0m \u001b[0mtree_to_treesegment\u001b[0m\u001b[0;34m\u001b[0m\u001b[0m\n\u001b[0m\u001b[1;32m    717\u001b[0m         \u001b[0;32mfrom\u001b[0m \u001b[0mnltk\u001b[0m\u001b[0;34m.\u001b[0m\u001b[0mdraw\u001b[0m\u001b[0;34m.\u001b[0m\u001b[0mutil\u001b[0m \u001b[0;32mimport\u001b[0m \u001b[0mCanvasFrame\u001b[0m\u001b[0;34m\u001b[0m\u001b[0m\n\u001b[1;32m    718\u001b[0m         \u001b[0;32mfrom\u001b[0m \u001b[0mnltk\u001b[0m\u001b[0;34m.\u001b[0m\u001b[0minternals\u001b[0m \u001b[0;32mimport\u001b[0m \u001b[0mfind_binary\u001b[0m\u001b[0;34m\u001b[0m\u001b[0m\n",
      "\u001b[0;32m/usr/local/lib/python3.5/dist-packages/nltk/draw/tree.py\u001b[0m in \u001b[0;36m<module>\u001b[0;34m()\u001b[0m\n\u001b[1;32m     10\u001b[0m \"\"\"\n\u001b[1;32m     11\u001b[0m \u001b[0;34m\u001b[0m\u001b[0m\n\u001b[0;32m---> 12\u001b[0;31m \u001b[0;32mfrom\u001b[0m \u001b[0msix\u001b[0m\u001b[0;34m.\u001b[0m\u001b[0mmoves\u001b[0m\u001b[0;34m.\u001b[0m\u001b[0mtkinter\u001b[0m \u001b[0;32mimport\u001b[0m \u001b[0mIntVar\u001b[0m\u001b[0;34m,\u001b[0m \u001b[0mMenu\u001b[0m\u001b[0;34m,\u001b[0m \u001b[0mTk\u001b[0m\u001b[0;34m\u001b[0m\u001b[0m\n\u001b[0m\u001b[1;32m     13\u001b[0m \u001b[0;34m\u001b[0m\u001b[0m\n\u001b[1;32m     14\u001b[0m \u001b[0;32mfrom\u001b[0m \u001b[0mnltk\u001b[0m\u001b[0;34m.\u001b[0m\u001b[0mutil\u001b[0m \u001b[0;32mimport\u001b[0m \u001b[0min_idle\u001b[0m\u001b[0;34m\u001b[0m\u001b[0m\n",
      "\u001b[0;32m~/.local/lib/python3.5/site-packages/six.py\u001b[0m in \u001b[0;36mload_module\u001b[0;34m(self, fullname)\u001b[0m\n\u001b[1;32m    201\u001b[0m         \u001b[0mmod\u001b[0m \u001b[0;34m=\u001b[0m \u001b[0mself\u001b[0m\u001b[0;34m.\u001b[0m\u001b[0m__get_module\u001b[0m\u001b[0;34m(\u001b[0m\u001b[0mfullname\u001b[0m\u001b[0;34m)\u001b[0m\u001b[0;34m\u001b[0m\u001b[0m\n\u001b[1;32m    202\u001b[0m         \u001b[0;32mif\u001b[0m \u001b[0misinstance\u001b[0m\u001b[0;34m(\u001b[0m\u001b[0mmod\u001b[0m\u001b[0;34m,\u001b[0m \u001b[0mMovedModule\u001b[0m\u001b[0;34m)\u001b[0m\u001b[0;34m:\u001b[0m\u001b[0;34m\u001b[0m\u001b[0m\n\u001b[0;32m--> 203\u001b[0;31m             \u001b[0mmod\u001b[0m \u001b[0;34m=\u001b[0m \u001b[0mmod\u001b[0m\u001b[0;34m.\u001b[0m\u001b[0m_resolve\u001b[0m\u001b[0;34m(\u001b[0m\u001b[0;34m)\u001b[0m\u001b[0;34m\u001b[0m\u001b[0m\n\u001b[0m\u001b[1;32m    204\u001b[0m         \u001b[0;32melse\u001b[0m\u001b[0;34m:\u001b[0m\u001b[0;34m\u001b[0m\u001b[0m\n\u001b[1;32m    205\u001b[0m             \u001b[0mmod\u001b[0m\u001b[0;34m.\u001b[0m\u001b[0m__loader__\u001b[0m \u001b[0;34m=\u001b[0m \u001b[0mself\u001b[0m\u001b[0;34m\u001b[0m\u001b[0m\n",
      "\u001b[0;32m~/.local/lib/python3.5/site-packages/six.py\u001b[0m in \u001b[0;36m_resolve\u001b[0;34m(self)\u001b[0m\n\u001b[1;32m    113\u001b[0m \u001b[0;34m\u001b[0m\u001b[0m\n\u001b[1;32m    114\u001b[0m     \u001b[0;32mdef\u001b[0m \u001b[0m_resolve\u001b[0m\u001b[0;34m(\u001b[0m\u001b[0mself\u001b[0m\u001b[0;34m)\u001b[0m\u001b[0;34m:\u001b[0m\u001b[0;34m\u001b[0m\u001b[0m\n\u001b[0;32m--> 115\u001b[0;31m         \u001b[0;32mreturn\u001b[0m \u001b[0m_import_module\u001b[0m\u001b[0;34m(\u001b[0m\u001b[0mself\u001b[0m\u001b[0;34m.\u001b[0m\u001b[0mmod\u001b[0m\u001b[0;34m)\u001b[0m\u001b[0;34m\u001b[0m\u001b[0m\n\u001b[0m\u001b[1;32m    116\u001b[0m \u001b[0;34m\u001b[0m\u001b[0m\n\u001b[1;32m    117\u001b[0m     \u001b[0;32mdef\u001b[0m \u001b[0m__getattr__\u001b[0m\u001b[0;34m(\u001b[0m\u001b[0mself\u001b[0m\u001b[0;34m,\u001b[0m \u001b[0mattr\u001b[0m\u001b[0;34m)\u001b[0m\u001b[0;34m:\u001b[0m\u001b[0;34m\u001b[0m\u001b[0m\n",
      "\u001b[0;32m~/.local/lib/python3.5/site-packages/six.py\u001b[0m in \u001b[0;36m_import_module\u001b[0;34m(name)\u001b[0m\n\u001b[1;32m     80\u001b[0m \u001b[0;32mdef\u001b[0m \u001b[0m_import_module\u001b[0m\u001b[0;34m(\u001b[0m\u001b[0mname\u001b[0m\u001b[0;34m)\u001b[0m\u001b[0;34m:\u001b[0m\u001b[0;34m\u001b[0m\u001b[0m\n\u001b[1;32m     81\u001b[0m     \u001b[0;34m\"\"\"Import module, returning the module after the last dot.\"\"\"\u001b[0m\u001b[0;34m\u001b[0m\u001b[0m\n\u001b[0;32m---> 82\u001b[0;31m     \u001b[0m__import__\u001b[0m\u001b[0;34m(\u001b[0m\u001b[0mname\u001b[0m\u001b[0;34m)\u001b[0m\u001b[0;34m\u001b[0m\u001b[0m\n\u001b[0m\u001b[1;32m     83\u001b[0m     \u001b[0;32mreturn\u001b[0m \u001b[0msys\u001b[0m\u001b[0;34m.\u001b[0m\u001b[0mmodules\u001b[0m\u001b[0;34m[\u001b[0m\u001b[0mname\u001b[0m\u001b[0;34m]\u001b[0m\u001b[0;34m\u001b[0m\u001b[0m\n\u001b[1;32m     84\u001b[0m \u001b[0;34m\u001b[0m\u001b[0m\n",
      "\u001b[0;32m/usr/lib/python3.5/tkinter/__init__.py\u001b[0m in \u001b[0;36m<module>\u001b[0;34m()\u001b[0m\n\u001b[1;32m     36\u001b[0m     \u001b[0;32mimport\u001b[0m \u001b[0m_tkinter\u001b[0m\u001b[0;34m\u001b[0m\u001b[0m\n\u001b[1;32m     37\u001b[0m \u001b[0;32mexcept\u001b[0m \u001b[0mImportError\u001b[0m \u001b[0;32mas\u001b[0m \u001b[0mmsg\u001b[0m\u001b[0;34m:\u001b[0m\u001b[0;34m\u001b[0m\u001b[0m\n\u001b[0;32m---> 38\u001b[0;31m     \u001b[0;32mraise\u001b[0m \u001b[0mImportError\u001b[0m\u001b[0;34m(\u001b[0m\u001b[0mstr\u001b[0m\u001b[0;34m(\u001b[0m\u001b[0mmsg\u001b[0m\u001b[0;34m)\u001b[0m \u001b[0;34m+\u001b[0m \u001b[0;34m', please install the python3-tk package'\u001b[0m\u001b[0;34m)\u001b[0m\u001b[0;34m\u001b[0m\u001b[0m\n\u001b[0m\u001b[1;32m     39\u001b[0m \u001b[0mTclError\u001b[0m \u001b[0;34m=\u001b[0m \u001b[0m_tkinter\u001b[0m\u001b[0;34m.\u001b[0m\u001b[0mTclError\u001b[0m\u001b[0;34m\u001b[0m\u001b[0m\n\u001b[1;32m     40\u001b[0m \u001b[0;32mfrom\u001b[0m \u001b[0mtkinter\u001b[0m\u001b[0;34m.\u001b[0m\u001b[0mconstants\u001b[0m \u001b[0;32mimport\u001b[0m \u001b[0;34m*\u001b[0m\u001b[0;34m\u001b[0m\u001b[0m\n",
      "\u001b[0;31mImportError\u001b[0m: No module named '_tkinter', please install the python3-tk package"
     ]
    },
    {
     "data": {
      "text/plain": [
       "Tree('S', [Tree('PERSON', [('Steve', 'NNP')]), Tree('GPE', [('Jobs', 'NNP')]), (',', ','), ('the', 'DT'), Tree('ORGANIZATION', [('CEO', 'NNP')]), ('of', 'IN'), Tree('ORGANIZATION', [('Apple', 'NNP'), ('Inc.', 'NNP')]), ('is', 'VBZ'), ('living', 'VBG'), ('in', 'IN'), Tree('GPE', [('San', 'NNP')]), ('Francisco', 'NNP')])"
      ]
     },
     "execution_count": 34,
     "metadata": {},
     "output_type": "execute_result"
    }
   ],
   "source": [
    "chunks"
   ]
  },
  {
   "cell_type": "code",
   "execution_count": 35,
   "metadata": {},
   "outputs": [
    {
     "name": "stdout",
     "output_type": "stream",
     "text": [
      "(PERSON Steve/NNP)\n",
      "(GPE Jobs/NNP)\n",
      "(',', ',')\n",
      "('the', 'DT')\n",
      "(ORGANIZATION CEO/NNP)\n",
      "('of', 'IN')\n",
      "(ORGANIZATION Apple/NNP Inc./NNP)\n",
      "('is', 'VBZ')\n",
      "('living', 'VBG')\n",
      "('in', 'IN')\n",
      "(GPE San/NNP)\n",
      "('Francisco', 'NNP')\n"
     ]
    }
   ],
   "source": [
    "for chunk in chunks:\n",
    "    print (chunk)"
   ]
  },
  {
   "cell_type": "code",
   "execution_count": null,
   "metadata": {},
   "outputs": [],
   "source": []
  }
 ],
 "metadata": {
  "kernelspec": {
   "display_name": "Python 3",
   "language": "python",
   "name": "python3"
  },
  "language_info": {
   "codemirror_mode": {
    "name": "ipython",
    "version": 3
   },
   "file_extension": ".py",
   "mimetype": "text/x-python",
   "name": "python",
   "nbconvert_exporter": "python",
   "pygments_lexer": "ipython3",
   "version": "3.5.2"
  }
 },
 "nbformat": 4,
 "nbformat_minor": 2
}
